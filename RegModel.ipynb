{
 "cells": [
  {
   "cell_type": "code",
   "execution_count": 1,
   "metadata": {},
   "outputs": [],
   "source": [
    "import pandas as pd\n",
    "import numpy as np\n",
    "from sklearn.linear_model import LinearRegression\n",
    "from sklearn.preprocessing import PolynomialFeatures\n",
    "from sklearn.pipeline import Pipeline\n",
    "from sklearn.preprocessing import StandardScaler\n",
    "from sklearn.metrics import mean_squared_error\n",
    "from sklearn.model_selection import train_test_split\n",
    "from sklearn.linear_model import Ridge\n",
    "import seaborn as sns\n",
    "%matplotlib inline"
   ]
  },
  {
   "cell_type": "markdown",
   "metadata": {},
   "source": [
    "## Data Wrangling"
   ]
  },
  {
   "cell_type": "code",
   "execution_count": 2,
   "metadata": {},
   "outputs": [],
   "source": [
    "df_usdfomc = pd.read_excel('USD_FOMC_Data.xlsx', skiprows=range(1))\n",
    "header = df_usdfomc.iloc[0, :]\n",
    "df_usdfomc.columns = header\n",
    "df_usdfomc.index = df_usdfomc['S/N']\n",
    "df_usdfomc.drop('S/N', inplace=True, axis=0)\n",
    "df_usdfomc.drop('S/N', inplace=True, axis=1)"
   ]
  },
  {
   "cell_type": "code",
   "execution_count": 3,
   "metadata": {},
   "outputs": [
    {
     "data": {
      "text/html": [
       "<div>\n",
       "<style scoped>\n",
       "    .dataframe tbody tr th:only-of-type {\n",
       "        vertical-align: middle;\n",
       "    }\n",
       "\n",
       "    .dataframe tbody tr th {\n",
       "        vertical-align: top;\n",
       "    }\n",
       "\n",
       "    .dataframe thead th {\n",
       "        text-align: right;\n",
       "    }\n",
       "</style>\n",
       "<table border=\"1\" class=\"dataframe\">\n",
       "  <thead>\n",
       "    <tr style=\"text-align: right;\">\n",
       "      <th></th>\n",
       "      <th>Month</th>\n",
       "      <th>Year</th>\n",
       "      <th>Man. PMI</th>\n",
       "      <th>Non-Man. PMI</th>\n",
       "      <th>CPI</th>\n",
       "      <th>Retail Sales</th>\n",
       "      <th>Trading Balance</th>\n",
       "      <th>Employment Change</th>\n",
       "      <th>Uemployment Rate</th>\n",
       "      <th>Hourly Earning</th>\n",
       "      <th>FOMC Rates</th>\n",
       "    </tr>\n",
       "    <tr>\n",
       "      <th>S/N</th>\n",
       "      <th></th>\n",
       "      <th></th>\n",
       "      <th></th>\n",
       "      <th></th>\n",
       "      <th></th>\n",
       "      <th></th>\n",
       "      <th></th>\n",
       "      <th></th>\n",
       "      <th></th>\n",
       "      <th></th>\n",
       "      <th></th>\n",
       "    </tr>\n",
       "  </thead>\n",
       "  <tbody>\n",
       "    <tr>\n",
       "      <th>1</th>\n",
       "      <td>January</td>\n",
       "      <td>2012</td>\n",
       "      <td>53.9</td>\n",
       "      <td>52.6</td>\n",
       "      <td>0</td>\n",
       "      <td>0.001</td>\n",
       "      <td>-47.8</td>\n",
       "      <td>200</td>\n",
       "      <td>0.085</td>\n",
       "      <td>0.002</td>\n",
       "      <td>0.0025</td>\n",
       "    </tr>\n",
       "    <tr>\n",
       "      <th>2</th>\n",
       "      <td>February</td>\n",
       "      <td>2012</td>\n",
       "      <td>54.1</td>\n",
       "      <td>56.8</td>\n",
       "      <td>0.002</td>\n",
       "      <td>0.004</td>\n",
       "      <td>-48.8</td>\n",
       "      <td>243</td>\n",
       "      <td>0.083</td>\n",
       "      <td>0.002</td>\n",
       "      <td>0.0025</td>\n",
       "    </tr>\n",
       "    <tr>\n",
       "      <th>3</th>\n",
       "      <td>March</td>\n",
       "      <td>2012</td>\n",
       "      <td>52.4</td>\n",
       "      <td>57.3</td>\n",
       "      <td>0.004</td>\n",
       "      <td>0.011</td>\n",
       "      <td>-52.6</td>\n",
       "      <td>227</td>\n",
       "      <td>0.083</td>\n",
       "      <td>0.001</td>\n",
       "      <td>0.0025</td>\n",
       "    </tr>\n",
       "    <tr>\n",
       "      <th>4</th>\n",
       "      <td>April</td>\n",
       "      <td>2012</td>\n",
       "      <td>53.4</td>\n",
       "      <td>56</td>\n",
       "      <td>0.003</td>\n",
       "      <td>0.008</td>\n",
       "      <td>-46</td>\n",
       "      <td>120</td>\n",
       "      <td>0.082</td>\n",
       "      <td>0.002</td>\n",
       "      <td>0.0025</td>\n",
       "    </tr>\n",
       "    <tr>\n",
       "      <th>5</th>\n",
       "      <td>May</td>\n",
       "      <td>2012</td>\n",
       "      <td>54.8</td>\n",
       "      <td>53.5</td>\n",
       "      <td>0</td>\n",
       "      <td>0.001</td>\n",
       "      <td>-51.8</td>\n",
       "      <td>115</td>\n",
       "      <td>0.081</td>\n",
       "      <td>0</td>\n",
       "      <td>0.0025</td>\n",
       "    </tr>\n",
       "  </tbody>\n",
       "</table>\n",
       "</div>"
      ],
      "text/plain": [
       "0       Month  Year Man. PMI Non-Man. PMI    CPI Retail Sales Trading Balance  \\\n",
       "S/N                                                                             \n",
       "1     January  2012     53.9         52.6      0        0.001           -47.8   \n",
       "2    February  2012     54.1         56.8  0.002        0.004           -48.8   \n",
       "3       March  2012     52.4         57.3  0.004        0.011           -52.6   \n",
       "4       April  2012     53.4           56  0.003        0.008             -46   \n",
       "5         May  2012     54.8         53.5      0        0.001           -51.8   \n",
       "\n",
       "0   Employment Change Uemployment Rate Hourly Earning FOMC Rates  \n",
       "S/N                                                               \n",
       "1                 200            0.085          0.002     0.0025  \n",
       "2                 243            0.083          0.002     0.0025  \n",
       "3                 227            0.083          0.001     0.0025  \n",
       "4                 120            0.082          0.002     0.0025  \n",
       "5                 115            0.081              0     0.0025  "
      ]
     },
     "execution_count": 3,
     "metadata": {},
     "output_type": "execute_result"
    }
   ],
   "source": [
    "df_usdfomc.head()"
   ]
  },
  {
   "cell_type": "code",
   "execution_count": 4,
   "metadata": {},
   "outputs": [
    {
     "data": {
      "text/html": [
       "<div>\n",
       "<style scoped>\n",
       "    .dataframe tbody tr th:only-of-type {\n",
       "        vertical-align: middle;\n",
       "    }\n",
       "\n",
       "    .dataframe tbody tr th {\n",
       "        vertical-align: top;\n",
       "    }\n",
       "\n",
       "    .dataframe thead th {\n",
       "        text-align: right;\n",
       "    }\n",
       "</style>\n",
       "<table border=\"1\" class=\"dataframe\">\n",
       "  <thead>\n",
       "    <tr style=\"text-align: right;\">\n",
       "      <th></th>\n",
       "      <th>Man. PMI</th>\n",
       "      <th>Non-Man. PMI</th>\n",
       "      <th>CPI</th>\n",
       "      <th>Retail Sales</th>\n",
       "      <th>Trading Balance</th>\n",
       "      <th>Employment Change</th>\n",
       "      <th>Uemployment Rate</th>\n",
       "      <th>Hourly Earning</th>\n",
       "      <th>FOMC Rates</th>\n",
       "    </tr>\n",
       "    <tr>\n",
       "      <th>S/N</th>\n",
       "      <th></th>\n",
       "      <th></th>\n",
       "      <th></th>\n",
       "      <th></th>\n",
       "      <th></th>\n",
       "      <th></th>\n",
       "      <th></th>\n",
       "      <th></th>\n",
       "      <th></th>\n",
       "    </tr>\n",
       "  </thead>\n",
       "  <tbody>\n",
       "    <tr>\n",
       "      <th>1</th>\n",
       "      <td>53.9</td>\n",
       "      <td>52.6</td>\n",
       "      <td>0</td>\n",
       "      <td>0.001</td>\n",
       "      <td>-47.8</td>\n",
       "      <td>200</td>\n",
       "      <td>0.085</td>\n",
       "      <td>0.002</td>\n",
       "      <td>0.0025</td>\n",
       "    </tr>\n",
       "    <tr>\n",
       "      <th>2</th>\n",
       "      <td>54.1</td>\n",
       "      <td>56.8</td>\n",
       "      <td>0.002</td>\n",
       "      <td>0.004</td>\n",
       "      <td>-48.8</td>\n",
       "      <td>243</td>\n",
       "      <td>0.083</td>\n",
       "      <td>0.002</td>\n",
       "      <td>0.0025</td>\n",
       "    </tr>\n",
       "    <tr>\n",
       "      <th>3</th>\n",
       "      <td>52.4</td>\n",
       "      <td>57.3</td>\n",
       "      <td>0.004</td>\n",
       "      <td>0.011</td>\n",
       "      <td>-52.6</td>\n",
       "      <td>227</td>\n",
       "      <td>0.083</td>\n",
       "      <td>0.001</td>\n",
       "      <td>0.0025</td>\n",
       "    </tr>\n",
       "    <tr>\n",
       "      <th>4</th>\n",
       "      <td>53.4</td>\n",
       "      <td>56</td>\n",
       "      <td>0.003</td>\n",
       "      <td>0.008</td>\n",
       "      <td>-46</td>\n",
       "      <td>120</td>\n",
       "      <td>0.082</td>\n",
       "      <td>0.002</td>\n",
       "      <td>0.0025</td>\n",
       "    </tr>\n",
       "    <tr>\n",
       "      <th>5</th>\n",
       "      <td>54.8</td>\n",
       "      <td>53.5</td>\n",
       "      <td>0</td>\n",
       "      <td>0.001</td>\n",
       "      <td>-51.8</td>\n",
       "      <td>115</td>\n",
       "      <td>0.081</td>\n",
       "      <td>0</td>\n",
       "      <td>0.0025</td>\n",
       "    </tr>\n",
       "  </tbody>\n",
       "</table>\n",
       "</div>"
      ],
      "text/plain": [
       "0   Man. PMI Non-Man. PMI    CPI Retail Sales Trading Balance  \\\n",
       "S/N                                                             \n",
       "1       53.9         52.6      0        0.001           -47.8   \n",
       "2       54.1         56.8  0.002        0.004           -48.8   \n",
       "3       52.4         57.3  0.004        0.011           -52.6   \n",
       "4       53.4           56  0.003        0.008             -46   \n",
       "5       54.8         53.5      0        0.001           -51.8   \n",
       "\n",
       "0   Employment Change Uemployment Rate Hourly Earning FOMC Rates  \n",
       "S/N                                                               \n",
       "1                 200            0.085          0.002     0.0025  \n",
       "2                 243            0.083          0.002     0.0025  \n",
       "3                 227            0.083          0.001     0.0025  \n",
       "4                 120            0.082          0.002     0.0025  \n",
       "5                 115            0.081              0     0.0025  "
      ]
     },
     "execution_count": 4,
     "metadata": {},
     "output_type": "execute_result"
    }
   ],
   "source": [
    "df = df_usdfomc.drop(['Month', 'Year'], axis=1)\n",
    "df.head()"
   ]
  },
  {
   "cell_type": "code",
   "execution_count": 5,
   "metadata": {},
   "outputs": [
    {
     "data": {
      "text/plain": [
       "0\n",
       "Man. PMI             object\n",
       "Non-Man. PMI         object\n",
       "CPI                  object\n",
       "Retail Sales         object\n",
       "Trading Balance      object\n",
       "Employment Change    object\n",
       "Uemployment Rate     object\n",
       "Hourly Earning       object\n",
       "FOMC Rates           object\n",
       "dtype: object"
      ]
     },
     "execution_count": 5,
     "metadata": {},
     "output_type": "execute_result"
    }
   ],
   "source": [
    "df.dtypes"
   ]
  },
  {
   "cell_type": "code",
   "execution_count": 6,
   "metadata": {},
   "outputs": [],
   "source": [
    "df = df.astype(float)"
   ]
  },
  {
   "cell_type": "markdown",
   "metadata": {},
   "source": [
    "## Exploaratory Analysis"
   ]
  },
  {
   "cell_type": "code",
   "execution_count": 7,
   "metadata": {},
   "outputs": [
    {
     "data": {
      "text/html": [
       "<div>\n",
       "<style scoped>\n",
       "    .dataframe tbody tr th:only-of-type {\n",
       "        vertical-align: middle;\n",
       "    }\n",
       "\n",
       "    .dataframe tbody tr th {\n",
       "        vertical-align: top;\n",
       "    }\n",
       "\n",
       "    .dataframe thead th {\n",
       "        text-align: right;\n",
       "    }\n",
       "</style>\n",
       "<table border=\"1\" class=\"dataframe\">\n",
       "  <thead>\n",
       "    <tr style=\"text-align: right;\">\n",
       "      <th></th>\n",
       "      <th>Man. PMI</th>\n",
       "      <th>Non-Man. PMI</th>\n",
       "      <th>CPI</th>\n",
       "      <th>Retail Sales</th>\n",
       "      <th>Trading Balance</th>\n",
       "      <th>Employment Change</th>\n",
       "      <th>Uemployment Rate</th>\n",
       "      <th>Hourly Earning</th>\n",
       "      <th>FOMC Rates</th>\n",
       "    </tr>\n",
       "    <tr>\n",
       "      <th>0</th>\n",
       "      <th></th>\n",
       "      <th></th>\n",
       "      <th></th>\n",
       "      <th></th>\n",
       "      <th></th>\n",
       "      <th></th>\n",
       "      <th></th>\n",
       "      <th></th>\n",
       "      <th></th>\n",
       "    </tr>\n",
       "  </thead>\n",
       "  <tbody>\n",
       "    <tr>\n",
       "      <th>Man. PMI</th>\n",
       "      <td>1.000000</td>\n",
       "      <td>0.569402</td>\n",
       "      <td>0.045272</td>\n",
       "      <td>0.077324</td>\n",
       "      <td>-0.148790</td>\n",
       "      <td>0.089001</td>\n",
       "      <td>-0.189863</td>\n",
       "      <td>0.065144</td>\n",
       "      <td>0.295408</td>\n",
       "    </tr>\n",
       "    <tr>\n",
       "      <th>Non-Man. PMI</th>\n",
       "      <td>0.569402</td>\n",
       "      <td>1.000000</td>\n",
       "      <td>0.024034</td>\n",
       "      <td>0.053144</td>\n",
       "      <td>-0.262010</td>\n",
       "      <td>0.210160</td>\n",
       "      <td>-0.409789</td>\n",
       "      <td>0.170929</td>\n",
       "      <td>0.332231</td>\n",
       "    </tr>\n",
       "    <tr>\n",
       "      <th>CPI</th>\n",
       "      <td>0.045272</td>\n",
       "      <td>0.024034</td>\n",
       "      <td>1.000000</td>\n",
       "      <td>0.493933</td>\n",
       "      <td>0.006832</td>\n",
       "      <td>-0.036571</td>\n",
       "      <td>-0.084069</td>\n",
       "      <td>0.069496</td>\n",
       "      <td>0.128860</td>\n",
       "    </tr>\n",
       "    <tr>\n",
       "      <th>Retail Sales</th>\n",
       "      <td>0.077324</td>\n",
       "      <td>0.053144</td>\n",
       "      <td>0.493933</td>\n",
       "      <td>1.000000</td>\n",
       "      <td>0.052519</td>\n",
       "      <td>-0.178322</td>\n",
       "      <td>0.067764</td>\n",
       "      <td>0.183458</td>\n",
       "      <td>0.025666</td>\n",
       "    </tr>\n",
       "    <tr>\n",
       "      <th>Trading Balance</th>\n",
       "      <td>-0.148790</td>\n",
       "      <td>-0.262010</td>\n",
       "      <td>0.006832</td>\n",
       "      <td>0.052519</td>\n",
       "      <td>1.000000</td>\n",
       "      <td>-0.075780</td>\n",
       "      <td>0.395336</td>\n",
       "      <td>-0.152987</td>\n",
       "      <td>-0.665970</td>\n",
       "    </tr>\n",
       "    <tr>\n",
       "      <th>Employment Change</th>\n",
       "      <td>0.089001</td>\n",
       "      <td>0.210160</td>\n",
       "      <td>-0.036571</td>\n",
       "      <td>-0.178322</td>\n",
       "      <td>-0.075780</td>\n",
       "      <td>1.000000</td>\n",
       "      <td>-0.150738</td>\n",
       "      <td>-0.119484</td>\n",
       "      <td>-0.017103</td>\n",
       "    </tr>\n",
       "    <tr>\n",
       "      <th>Uemployment Rate</th>\n",
       "      <td>-0.189863</td>\n",
       "      <td>-0.409789</td>\n",
       "      <td>-0.084069</td>\n",
       "      <td>0.067764</td>\n",
       "      <td>0.395336</td>\n",
       "      <td>-0.150738</td>\n",
       "      <td>1.000000</td>\n",
       "      <td>-0.226608</td>\n",
       "      <td>-0.755454</td>\n",
       "    </tr>\n",
       "    <tr>\n",
       "      <th>Hourly Earning</th>\n",
       "      <td>0.065144</td>\n",
       "      <td>0.170929</td>\n",
       "      <td>0.069496</td>\n",
       "      <td>0.183458</td>\n",
       "      <td>-0.152987</td>\n",
       "      <td>-0.119484</td>\n",
       "      <td>-0.226608</td>\n",
       "      <td>1.000000</td>\n",
       "      <td>0.214013</td>\n",
       "    </tr>\n",
       "    <tr>\n",
       "      <th>FOMC Rates</th>\n",
       "      <td>0.295408</td>\n",
       "      <td>0.332231</td>\n",
       "      <td>0.128860</td>\n",
       "      <td>0.025666</td>\n",
       "      <td>-0.665970</td>\n",
       "      <td>-0.017103</td>\n",
       "      <td>-0.755454</td>\n",
       "      <td>0.214013</td>\n",
       "      <td>1.000000</td>\n",
       "    </tr>\n",
       "  </tbody>\n",
       "</table>\n",
       "</div>"
      ],
      "text/plain": [
       "0                  Man. PMI  Non-Man. PMI       CPI  Retail Sales  \\\n",
       "0                                                                   \n",
       "Man. PMI           1.000000      0.569402  0.045272      0.077324   \n",
       "Non-Man. PMI       0.569402      1.000000  0.024034      0.053144   \n",
       "CPI                0.045272      0.024034  1.000000      0.493933   \n",
       "Retail Sales       0.077324      0.053144  0.493933      1.000000   \n",
       "Trading Balance   -0.148790     -0.262010  0.006832      0.052519   \n",
       "Employment Change  0.089001      0.210160 -0.036571     -0.178322   \n",
       "Uemployment Rate  -0.189863     -0.409789 -0.084069      0.067764   \n",
       "Hourly Earning     0.065144      0.170929  0.069496      0.183458   \n",
       "FOMC Rates         0.295408      0.332231  0.128860      0.025666   \n",
       "\n",
       "0                  Trading Balance  Employment Change  Uemployment Rate  \\\n",
       "0                                                                         \n",
       "Man. PMI                 -0.148790           0.089001         -0.189863   \n",
       "Non-Man. PMI             -0.262010           0.210160         -0.409789   \n",
       "CPI                       0.006832          -0.036571         -0.084069   \n",
       "Retail Sales              0.052519          -0.178322          0.067764   \n",
       "Trading Balance           1.000000          -0.075780          0.395336   \n",
       "Employment Change        -0.075780           1.000000         -0.150738   \n",
       "Uemployment Rate          0.395336          -0.150738          1.000000   \n",
       "Hourly Earning           -0.152987          -0.119484         -0.226608   \n",
       "FOMC Rates               -0.665970          -0.017103         -0.755454   \n",
       "\n",
       "0                  Hourly Earning  FOMC Rates  \n",
       "0                                              \n",
       "Man. PMI                 0.065144    0.295408  \n",
       "Non-Man. PMI             0.170929    0.332231  \n",
       "CPI                      0.069496    0.128860  \n",
       "Retail Sales             0.183458    0.025666  \n",
       "Trading Balance         -0.152987   -0.665970  \n",
       "Employment Change       -0.119484   -0.017103  \n",
       "Uemployment Rate        -0.226608   -0.755454  \n",
       "Hourly Earning           1.000000    0.214013  \n",
       "FOMC Rates               0.214013    1.000000  "
      ]
     },
     "execution_count": 7,
     "metadata": {},
     "output_type": "execute_result"
    }
   ],
   "source": [
    "df.corr(method ='pearson')"
   ]
  },
  {
   "cell_type": "code",
   "execution_count": 8,
   "metadata": {},
   "outputs": [],
   "source": [
    "lm = LinearRegression()"
   ]
  },
  {
   "cell_type": "code",
   "execution_count": 9,
   "metadata": {},
   "outputs": [],
   "source": [
    "X = df[['Trading Balance', 'Uemployment Rate']]\n",
    "#X = df[['Uemployment Rate']]\n",
    "Y = df['FOMC Rates']"
   ]
  },
  {
   "cell_type": "code",
   "execution_count": 10,
   "metadata": {},
   "outputs": [
    {
     "data": {
      "text/plain": [
       "0.7306213010927579"
      ]
     },
     "execution_count": 10,
     "metadata": {},
     "output_type": "execute_result"
    }
   ],
   "source": [
    "lm.fit(X,Y)\n",
    "lm.score(X,Y)"
   ]
  },
  {
   "cell_type": "code",
   "execution_count": 11,
   "metadata": {},
   "outputs": [
    {
     "data": {
      "text/plain": [
       "0.7803063842404532"
      ]
     },
     "execution_count": 11,
     "metadata": {},
     "output_type": "execute_result"
    }
   ],
   "source": [
    "X = df.drop('FOMC Rates', axis=1)\n",
    "\n",
    "lm.fit(X, Y)\n",
    "lm.score(X, Y)"
   ]
  },
  {
   "cell_type": "code",
   "execution_count": 12,
   "metadata": {},
   "outputs": [
    {
     "data": {
      "text/plain": [
       "-0.0008580004162946769"
      ]
     },
     "execution_count": 12,
     "metadata": {},
     "output_type": "execute_result"
    }
   ],
   "source": [
    "lm.intercept_"
   ]
  },
  {
   "cell_type": "code",
   "execution_count": 13,
   "metadata": {},
   "outputs": [
    {
     "data": {
      "text/plain": [
       "array([ 4.08800915e-04, -3.96620188e-04,  1.79233023e-01,  5.36212920e-02,\n",
       "       -6.40077906e-04, -1.48667810e-05, -3.07734419e-01, -5.51515726e-02])"
      ]
     },
     "execution_count": 13,
     "metadata": {},
     "output_type": "execute_result"
    }
   ],
   "source": [
    "lm.coef_"
   ]
  },
  {
   "cell_type": "code",
   "execution_count": 14,
   "metadata": {},
   "outputs": [
    {
     "data": {
      "text/plain": [
       "<matplotlib.axes._subplots.AxesSubplot at 0x20171291ca0>"
      ]
     },
     "execution_count": 14,
     "metadata": {},
     "output_type": "execute_result"
    },
    {
     "data": {
      "image/png": "[encoded data removed]",
      "text/plain": [
       "<Figure size 432x288 with 1 Axes>"
      ]
     },
     "metadata": {
      "needs_background": "light"
     },
     "output_type": "display_data"
    }
   ],
   "source": [
    "sns.regplot(x='Trading Balance', y='FOMC Rates', data=df)"
   ]
  },
  {
   "cell_type": "code",
   "execution_count": 15,
   "metadata": {},
   "outputs": [
    {
     "data": {
      "text/plain": [
       "<matplotlib.axes._subplots.AxesSubplot at 0x201719cdca0>"
      ]
     },
     "execution_count": 15,
     "metadata": {},
     "output_type": "execute_result"
    },
    {
     "data": {
      "image/png": "[encoded data removed]",
      "text/plain": [
       "<Figure size 432x288 with 1 Axes>"
      ]
     },
     "metadata": {
      "needs_background": "light"
     },
     "output_type": "display_data"
    }
   ],
   "source": [
    "sns.regplot(x='Uemployment Rate', y='FOMC Rates', data=df)"
   ]
  },
  {
   "cell_type": "markdown",
   "metadata": {},
   "source": [
    "## Model Building and Evaluation"
   ]
  },
  {
   "cell_type": "code",
   "execution_count": 41,
   "metadata": {},
   "outputs": [
    {
     "name": "stderr",
     "output_type": "stream",
     "text": [
      "C:\\Users\\The Presence\\anaconda3\\lib\\site-packages\\sklearn\\linear_model\\_ridge.py:147: LinAlgWarning: Ill-conditioned matrix (rcond=4.78093e-20): result may not be accurate.\n",
      "  return linalg.solve(A, Xy, sym_pos=True,\n",
      "C:\\Users\\The Presence\\anaconda3\\lib\\site-packages\\sklearn\\linear_model\\_ridge.py:147: LinAlgWarning: Ill-conditioned matrix (rcond=1.37046e-23): result may not be accurate.\n",
      "  return linalg.solve(A, Xy, sym_pos=True,\n",
      "C:\\Users\\The Presence\\anaconda3\\lib\\site-packages\\sklearn\\linear_model\\_ridge.py:147: LinAlgWarning: Ill-conditioned matrix (rcond=3.87687e-27): result may not be accurate.\n",
      "  return linalg.solve(A, Xy, sym_pos=True,\n"
     ]
    }
   ],
   "source": [
    "lm_scores = []\n",
    "rm_scores = []\n",
    "rm=Ridge(alpha=0.1)\n",
    "M = df[['Trading Balance', 'Uemployment Rate']]\n",
    "for degree in list(range(1,8)):\n",
    "    pr = PolynomialFeatures(degree=degree)\n",
    "    M_poly = pr.fit_transform(M)\n",
    "    lm.fit(M_poly, Y)\n",
    "    rm.fit(M_poly, Y)\n",
    "    lm_scores.append(lm.score(M_poly, Y))\n",
    "    rm_scores.append(rm.score(M_poly, Y))\n",
    "lm_score = dict(zip(list(range(1,8)), lm_scores))\n",
    "rm_score = dict(zip(list(range(1,8)), rm_scores))"
   ]
  },
  {
   "cell_type": "code",
   "execution_count": 42,
   "metadata": {},
   "outputs": [
    {
     "name": "stdout",
     "output_type": "stream",
     "text": [
      "{1: 0.730621301092758, 2: 0.861086564545771, 3: 0.8627666308844104, 4: 0.8920563324638344, 5: 0.8977974162800851, 6: 0.8991668426252596, 7: 0.899205677987824}\n",
      "{1: 0.5326032495720856, 2: 0.75751024338796, 3: 0.7881945727219035, 4: 0.8600990282210649, 5: 0.8655041232851776, 6: 0.8708854697265505, 7: 0.8731228365142912}\n"
     ]
    }
   ],
   "source": [
    "print(lm_score)\n",
    "print(rm_score)"
   ]
  },
  {
   "cell_type": "code",
   "execution_count": null,
   "metadata": {},
   "outputs": [],
   "source": [
    "lm_scores = []\n",
    "rm_scores = []\n",
    "rm=Ridge(alpha=0.1)\n",
    "M = df[['Trading Balance', 'Uemployment Rate']]\n",
    "M_train, M_test, Y_train, Y_test = train_test_split(M, Y, test_size=0.2, random_state=1)\n",
    "for degree in list(range(1,8)):\n",
    "    Input_1=[('scale',StandardScaler()), ('polynomial', PolynomialFeatures(include_bias=False, degree=degree)), ('model',LinearRegression())]\n",
    "    Input_2=[('scale',StandardScaler()), ('polynomial', PolynomialFeatures(include_bias=False, degree=degree)), ('model',Ridge(alpha=0.1))]\n",
    "    pipe1=Pipeline(Input_1)\n",
    "    pipe2=Pipeline(Input_2)\n",
    "    M_poly1 = pr.fit_transform(M_train)\n",
    "    M_poly2 = pr.fit_transform(M_test)\n",
    "    pipe1.fit(M_poly1, Y_train)\n",
    "    pipe2.fit(M_poly1, Y_train)\n",
    "    lin_score = {'train_score': pipe1.score(M_poly1, Y_train), 'test_score': pipe1.score(M_poly2, Y_test)}\n",
    "    lm_scores.append(lm.score(M_poly, Y))\n",
    "    rm_scores.append(rm.score(M_poly, Y))\n",
    "lm_score = dict(zip(list(range(1,8)), lm_scores))\n",
    "rm_score = dict(zip(list(range(1,8)), rm_scores))"
   ]
  },
  {
   "cell_type": "code",
   "execution_count": 20,
   "metadata": {},
   "outputs": [],
   "source": [
    "pr_2 = PolynomialFeatures(degree=3)"
   ]
  },
  {
   "cell_type": "code",
   "execution_count": 21,
   "metadata": {},
   "outputs": [],
   "source": [
    "N = df.drop('FOMC Rates', axis=1)\n",
    "N_poly = pr_2.fit_transform(N)"
   ]
  },
  {
   "cell_type": "code",
   "execution_count": 22,
   "metadata": {},
   "outputs": [
    {
     "data": {
      "text/plain": [
       "0.9999999999999923"
      ]
     },
     "execution_count": 22,
     "metadata": {},
     "output_type": "execute_result"
    }
   ],
   "source": [
    "lm.fit(N_poly, Y)\n",
    "lm.score(N_poly, Y)"
   ]
  },
  {
   "cell_type": "code",
   "execution_count": 23,
   "metadata": {},
   "outputs": [],
   "source": [
    "Y_hat = lm.predict(N_poly)"
   ]
  },
  {
   "cell_type": "code",
   "execution_count": 24,
   "metadata": {},
   "outputs": [
    {
     "data": {
      "text/plain": [
       "<matplotlib.axes._subplots.AxesSubplot at 0x20171a3b8e0>"
      ]
     },
     "execution_count": 24,
     "metadata": {},
     "output_type": "execute_result"
    },
    {
     "data": {
      "image/png": "[encoded data removed]",
      "text/plain": [
       "<Figure size 432x288 with 1 Axes>"
      ]
     },
     "metadata": {
      "needs_background": "light"
     },
     "output_type": "display_data"
    }
   ],
   "source": [
    "ax1 = sns.distplot(Y, hist=False, color=\"r\", label=\"Actual Value\")\n",
    "sns.distplot(Y_hat, hist=False, color=\"b\", label=\"Fitted Values\" , ax=ax1)"
   ]
  },
  {
   "cell_type": "code",
   "execution_count": 25,
   "metadata": {},
   "outputs": [
    {
     "name": "stdout",
     "output_type": "stream",
     "text": [
      "number of test samples : 20\n",
      "number of training samples: 79\n"
     ]
    }
   ],
   "source": [
    "N_train, N_test, Y_train, Y_test = train_test_split(N, Y, test_size=0.2, random_state=1)\n",
    "M_train, M_test, Z_train, Z_test = train_test_split(M, Y, test_size=0.2, random_state=1)\n",
    "\n",
    "print(\"number of test samples :\", N_test.shape[0])\n",
    "print(\"number of training samples:\",N_train.shape[0])"
   ]
  },
  {
   "cell_type": "code",
   "execution_count": 26,
   "metadata": {},
   "outputs": [],
   "source": [
    "Input=[('scale',StandardScaler()), ('polynomial', PolynomialFeatures(include_bias=False, degree=2)), ('model',LinearRegression())]\n",
    "Input_2=[('scale',StandardScaler()), ('polynomial', PolynomialFeatures(include_bias=False, degree=7)), ('model',LinearRegression())]"
   ]
  },
  {
   "cell_type": "code",
   "execution_count": 27,
   "metadata": {},
   "outputs": [
    {
     "data": {
      "text/plain": [
       "Pipeline(steps=[('scale', StandardScaler()),\n",
       "                ('polynomial', PolynomialFeatures(include_bias=False)),\n",
       "                ('model', LinearRegression())])"
      ]
     },
     "execution_count": 27,
     "metadata": {},
     "output_type": "execute_result"
    }
   ],
   "source": [
    "pipe=Pipeline(Input)\n",
    "pipe"
   ]
  },
  {
   "cell_type": "code",
   "execution_count": 28,
   "metadata": {},
   "outputs": [
    {
     "data": {
      "text/plain": [
       "0.9440583147812138"
      ]
     },
     "execution_count": 28,
     "metadata": {},
     "output_type": "execute_result"
    }
   ],
   "source": [
    "pipe.fit(N_train, Y_train)\n",
    "pipe.score(N_train, Y_train)"
   ]
  },
  {
   "cell_type": "code",
   "execution_count": 29,
   "metadata": {},
   "outputs": [
    {
     "data": {
      "text/plain": [
       "0.7875166342103559"
      ]
     },
     "execution_count": 29,
     "metadata": {},
     "output_type": "execute_result"
    }
   ],
   "source": [
    "pipe.score(N_test, Y_test)"
   ]
  },
  {
   "cell_type": "code",
   "execution_count": 30,
   "metadata": {},
   "outputs": [
    {
     "data": {
      "text/plain": [
       "0.9458977154893973"
      ]
     },
     "execution_count": 30,
     "metadata": {},
     "output_type": "execute_result"
    }
   ],
   "source": [
    "pipe_2 = Pipeline(Input_2)\n",
    "pipe_2.fit(M_train, Z_train)\n",
    "pipe_2.score(M_train, Z_train)"
   ]
  },
  {
   "cell_type": "code",
   "execution_count": 31,
   "metadata": {},
   "outputs": [
    {
     "data": {
      "text/plain": [
       "0.9335469626252407"
      ]
     },
     "execution_count": 31,
     "metadata": {},
     "output_type": "execute_result"
    }
   ],
   "source": [
    "pipe_2.score(M_test, Z_test)"
   ]
  },
  {
   "cell_type": "code",
   "execution_count": 32,
   "metadata": {},
   "outputs": [
    {
     "data": {
      "text/plain": [
       "0.0021395550232030857"
      ]
     },
     "execution_count": 32,
     "metadata": {},
     "output_type": "execute_result"
    }
   ],
   "source": [
    "pipe_2['model'].intercept_"
   ]
  },
  {
   "cell_type": "code",
   "execution_count": 33,
   "metadata": {},
   "outputs": [
    {
     "data": {
      "text/plain": [
       "array([ 2.26904482e-04, -1.98810847e-03,  4.70154882e-04, -6.24757429e-03,\n",
       "        9.76533499e-03, -3.41734567e-03,  1.00113304e-02,  5.87388060e-04,\n",
       "       -1.04583122e-02,  1.63833550e-03,  6.76938310e-05, -1.24336255e-02,\n",
       "        2.00982816e-02, -6.49913458e-05,  2.92408558e-03, -7.40492723e-03,\n",
       "        5.19469595e-03, -5.04325346e-03, -7.75572401e-03,  5.11165685e-03,\n",
       "       -1.08668490e-03,  3.12358897e-03,  1.84143281e-04, -9.82299454e-03,\n",
       "        1.48602795e-02, -9.47361735e-03, -2.77993969e-03, -2.41527574e-04,\n",
       "        6.85169995e-04, -2.34802134e-03,  2.78139215e-03,  4.36093090e-03,\n",
       "       -6.07094478e-03,  4.50394251e-03,  5.67767714e-04])"
      ]
     },
     "execution_count": 33,
     "metadata": {},
     "output_type": "execute_result"
    }
   ],
   "source": [
    "pipe_2['model'].coef_"
   ]
  },
  {
   "cell_type": "code",
   "execution_count": null,
   "metadata": {},
   "outputs": [],
   "source": []
  }
 ],
 "metadata": {
  "kernelspec": {
   "display_name": "Python 3",
   "language": "python",
   "name": "python3"
  },
  "language_info": {
   "codemirror_mode": {
    "name": "ipython",
    "version": 3
   },
   "file_extension": ".py",
   "mimetype": "text/x-python",
   "name": "python",
   "nbconvert_exporter": "python",
   "pygments_lexer": "ipython3",
   "version": "3.8.3"
  }
 },
 "nbformat": 4,
 "nbformat_minor": 4
}
